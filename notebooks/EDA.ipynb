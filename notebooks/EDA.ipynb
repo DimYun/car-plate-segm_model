{
 "cells": [
  {
   "cell_type": "markdown",
   "id": "1dec514b58eccd82",
   "metadata": {},
   "source": [
    "# Описательный анализ данных"
   ]
  },
  {
   "cell_type": "code",
   "id": "7dce8267cee2f694",
   "metadata": {
    "ExecuteTime": {
     "end_time": "2024-06-06T08:16:20.111770Z",
     "start_time": "2024-06-06T08:16:20.087119Z"
    }
   },
   "outputs": [],
   "source": [
    "%load_ext autoreload\n",
    "%autoreload 2"
   ],
   "execution_count": 1
  },
  {
   "cell_type": "code",
   "id": "f7b6b02beb37d8f4",
   "metadata": {
    "ExecuteTime": {
     "end_time": "2024-06-06T08:16:20.130012Z",
     "start_time": "2024-06-06T08:16:20.113718Z"
    }
   },
   "outputs": [],
   "source": [
    "from os import path\n",
    "import sys\n",
    "sys.path.append(path.abspath('..'))"
   ],
   "execution_count": 2
  },
  {
   "cell_type": "code",
   "execution_count": 3,
   "id": "40b5ff1fe1a98d8e",
   "metadata": {
    "ExecuteTime": {
     "end_time": "2024-06-06T08:16:20.765568Z",
     "start_time": "2024-06-06T08:16:20.131586Z"
    }
   },
   "outputs": [
    {
     "ename": "ImportError",
     "evalue": "libcudnn.so.8: cannot open shared object file: No such file or directory",
     "output_type": "error",
     "traceback": [
      "\u001B[0;31m---------------------------------------------------------------------------\u001B[0m",
      "\u001B[0;31mImportError\u001B[0m                               Traceback (most recent call last)",
      "Cell \u001B[0;32mIn[3], line 9\u001B[0m\n\u001B[1;32m      7\u001B[0m \u001B[38;5;28;01mfrom\u001B[39;00m \u001B[38;5;21;01mbs4\u001B[39;00m \u001B[38;5;28;01mimport\u001B[39;00m BeautifulSoup\n\u001B[1;32m      8\u001B[0m \u001B[38;5;28;01mimport\u001B[39;00m \u001B[38;5;21;01mpandas\u001B[39;00m \u001B[38;5;28;01mas\u001B[39;00m \u001B[38;5;21;01mpd\u001B[39;00m\n\u001B[0;32m----> 9\u001B[0m \u001B[38;5;28;01mfrom\u001B[39;00m \u001B[38;5;21;01mtorch\u001B[39;00m\u001B[38;5;21;01m.\u001B[39;00m\u001B[38;5;21;01mutils\u001B[39;00m\u001B[38;5;21;01m.\u001B[39;00m\u001B[38;5;21;01mdata\u001B[39;00m \u001B[38;5;28;01mimport\u001B[39;00m DataLoader\n\u001B[1;32m     12\u001B[0m \u001B[38;5;28;01mimport\u001B[39;00m \u001B[38;5;21;01mmatplotlib\u001B[39;00m\u001B[38;5;21;01m.\u001B[39;00m\u001B[38;5;21;01mpyplot\u001B[39;00m \u001B[38;5;28;01mas\u001B[39;00m \u001B[38;5;21;01mplt\u001B[39;00m\n\u001B[1;32m     14\u001B[0m \u001B[38;5;28;01mimport\u001B[39;00m \u001B[38;5;21;01mjson\u001B[39;00m\n",
      "File \u001B[0;32m/opt/python_venvs/hw-01/lib/python3.9/site-packages/torch/__init__.py:237\u001B[0m\n\u001B[1;32m    235\u001B[0m     \u001B[38;5;28;01mif\u001B[39;00m USE_GLOBAL_DEPS:\n\u001B[1;32m    236\u001B[0m         _load_global_deps()\n\u001B[0;32m--> 237\u001B[0m     \u001B[38;5;28;01mfrom\u001B[39;00m \u001B[38;5;21;01mtorch\u001B[39;00m\u001B[38;5;21;01m.\u001B[39;00m\u001B[38;5;21;01m_C\u001B[39;00m \u001B[38;5;28;01mimport\u001B[39;00m \u001B[38;5;241m*\u001B[39m  \u001B[38;5;66;03m# noqa: F403\u001B[39;00m\n\u001B[1;32m    239\u001B[0m \u001B[38;5;66;03m# Appease the type checker; ordinarily this binding is inserted by the\u001B[39;00m\n\u001B[1;32m    240\u001B[0m \u001B[38;5;66;03m# torch._C module initialization code in C\u001B[39;00m\n\u001B[1;32m    241\u001B[0m \u001B[38;5;28;01mif\u001B[39;00m TYPE_CHECKING:\n",
      "\u001B[0;31mImportError\u001B[0m: libcudnn.so.8: cannot open shared object file: No such file or directory"
     ]
    }
   ],
   "source": [
    "import os\n",
    "from PIL import Image\n",
    "import cv2\n",
    "import random\n",
    "import numpy as np\n",
    "from tqdm import tqdm\n",
    "from bs4 import BeautifulSoup\n",
    "import pandas as pd\n",
    "from torch.utils.data import DataLoader\n",
    "\n",
    "\n",
    "import matplotlib.pyplot as plt\n",
    "\n",
    "import json\n",
    "\n",
    "import src.dataset_splitter as dspl\n",
    "from src.dataset import PlateDataset\n",
    "import src.augmentations as self_augs"
   ]
  },
  {
   "cell_type": "code",
   "id": "376e5ca77a0b01b1",
   "metadata": {},
   "outputs": [],
   "source": [
    "SAVE_PATH = 'single_COCO'\n",
    "IMAGE_PATH = '../dataset/single_COCO'\n",
    "COCO_ANNOTATION_PATH = '../dataset/COCO_plate_dataset.json'\n",
    "DATA_PATH = '../dataset'"
   ]
  },
  {
   "cell_type": "markdown",
   "id": "670c5ddec0c94cbf",
   "metadata": {},
   "source": [
    "## Подбор и комбинация данных с kaggle"
   ]
  },
  {
   "cell_type": "code",
   "execution_count": null,
   "id": "8eaccd709486e27a",
   "metadata": {},
   "outputs": [],
   "source": [
    "image_data_dict = {\n",
    "\t'full_paths': [],\n",
    "\t'bboxes': [],\n",
    "\t'labels': [],\n",
    "}"
   ]
  },
  {
   "cell_type": "markdown",
   "id": "96b490412fa1248e",
   "metadata": {},
   "source": [
    "### Automatic-Number-Plate-Recognitions\n",
    "\n",
    "https://www.kaggle.com/datasets/aslanahmedov/number-plate-detection"
   ]
  },
  {
   "cell_type": "code",
   "execution_count": null,
   "id": "82e6a876929a46eb",
   "metadata": {},
   "outputs": [],
   "source": [
    "# DATA_DIRS = list(os.walk('Automatic-Number-Plate-Recognition/images'))[0][-1]\n",
    "\n",
    "all_files_path = 'Automatic-Number-Plate-Recognition/images'\n",
    "all_files = list(os.walk(all_files_path))[0][-1]\n",
    "len(all_files) / 2"
   ]
  },
  {
   "cell_type": "code",
   "execution_count": null,
   "id": "baee78908b38517d",
   "metadata": {},
   "outputs": [],
   "source": [
    "# Reading the data inside the xml\n",
    "# file to a variable under the name \n",
    "# data\n",
    "with open('Automatic-Number-Plate-Recognition/images/N2.xml', 'r') as f:\n",
    "\tdata = f.read()\n",
    "\n",
    "# Passing the stored data inside\n",
    "# the beautifulsoup parser, storing\n",
    "# the returned object \n",
    "Bs_data = BeautifulSoup(data, \"xml\")\n",
    "\n",
    "# Finding all instances of tag \n",
    "# `unique`\n",
    "b_unique = Bs_data.find_all('object')\n",
    "\n",
    "print(b_unique)\n",
    "\n",
    "# Using find() to extract attributes \n",
    "# of the first instance of the tag\n",
    "b_name = Bs_data.find('filename')\n",
    "\n",
    "print(b_name)\n",
    "\n",
    "# Extracting the data stored in a\n",
    "# specific attribute of the \n",
    "# `child` tag\n",
    "value = b_name.get('test')\n",
    "\n",
    "print(value)\n"
   ]
  },
  {
   "cell_type": "code",
   "execution_count": null,
   "id": "50b340dca3b19082",
   "metadata": {},
   "outputs": [],
   "source": [
    "image_names = []\n",
    "image_bboxes = []\n",
    "for annot_file in tqdm(list(os.walk('Automatic-Number-Plate-Recognition/images'))[0][2]):\n",
    "\tif '.xml' in annot_file:\n",
    "\t\t# Reading the data inside the xml\n",
    "\t\twith open(os.path.join('Automatic-Number-Plate-Recognition/images/', annot_file), 'r') as f:\n",
    "\t\t\tdata = f.read()\n",
    "\t\t\n",
    "\t\t# Passing the stored data \n",
    "\t\tBs_data = BeautifulSoup(data, \"xml\")\n",
    "\t\t\n",
    "\t\t# Finding image name \n",
    "\t\timage_names.append(Bs_data.find('filename').text)\n",
    "\t\t\n",
    "\t\t# Finding image annotations\n",
    "\t\tobjects = Bs_data.find_all('object')\n",
    "\t\tbboxes = []\n",
    "\t\tlabels = []\n",
    "\t\tfor obj in objects:\n",
    "\t\t\tbbox = [\n",
    "\t\t\t\tint(obj.find('bndbox').find('xmin').text),\n",
    "\t\t\t\tint(obj.find('bndbox').find('ymin').text),\n",
    "\t\t\t\tint(obj.find('bndbox').find('xmax').text),  # - int(obj.find('bndbox').find('xmin').text),\n",
    "\t\t\t\tint(obj.find('bndbox').find('ymax').text),  # - int(obj.find('bndbox').find('ymin').text)\n",
    "\t\t\t]\n",
    "\t\t\tbboxes.append(bbox)\n",
    "\t\t\tlabels.append('plate')\n",
    "\t\timage_bboxes.append(bboxes)\n",
    "\t\t\n",
    "\t\t# Compile big dataset\n",
    "\t\timage_data_dict['full_paths'].append(\n",
    "\t\t\tos.path.join(all_files_path, Bs_data.find('filename').text)\n",
    "\t\t)\n",
    "\t\timage_data_dict['bboxes'].append(bboxes)\n",
    "\t\timage_data_dict['labels'].append(labels)\n",
    "\t\t\t"
   ]
  },
  {
   "cell_type": "code",
   "execution_count": null,
   "id": "efd190bb92317b39",
   "metadata": {},
   "outputs": [],
   "source": [
    "print(image_data_dict['full_paths'][-1])\n",
    "print(image_data_dict['bboxes'][-1])\n",
    "print(image_data_dict['labels'][-1])"
   ]
  },
  {
   "cell_type": "code",
   "execution_count": null,
   "id": "304ed9d7eb1049a8",
   "metadata": {},
   "outputs": [],
   "source": [
    "# Plot and check data\n",
    "random_i = random.randint(0, len(image_names) - 1)\n",
    "\n",
    "test_image_path = os.path.join('Automatic-Number-Plate-Recognition/images', image_names[random_i])\n",
    "test_image_bboxes = image_bboxes[random_i]\n",
    "\n",
    "test_image = cv2.imread(str(test_image_path))\n",
    "test_image = cv2.cvtColor(test_image, cv2.COLOR_BGR2RGB)\n",
    "test_image_bbox = test_image.copy()\n",
    "\n",
    "for bbox in test_image_bboxes:\n",
    "\tcv2.rectangle(\n",
    "\t\ttest_image_bbox, \n",
    "\t\t(int(bbox[0]), int(bbox[1])),\n",
    "\t\t(int(bbox[2]), int(bbox[3])),\n",
    "\t\t(255,0,0),\n",
    "\t\t2\n",
    "\t)\n",
    "\t\t\n",
    "plt.imshow(test_image_bbox);"
   ]
  },
  {
   "cell_type": "code",
   "execution_count": null,
   "id": "ca1bbfd5bd1c856e",
   "metadata": {},
   "outputs": [],
   "source": []
  },
  {
   "cell_type": "markdown",
   "id": "f3a24db9a72ab0ab",
   "metadata": {},
   "source": [
    "###  Car-and-License-Plate-Detection\n",
    "\n",
    "https://www.kaggle.com/datasets/riotulab/car-and-license-plate-detection"
   ]
  },
  {
   "cell_type": "code",
   "execution_count": null,
   "id": "324bc026643c2ee7",
   "metadata": {},
   "outputs": [],
   "source": [
    "all_files_path = 'Car-and-License-Plate-Detection/Car-and-License-plates-detection'\n",
    "all_files = list(os.walk(all_files_path))[0][-1]\n",
    "len(all_files) / 3"
   ]
  },
  {
   "cell_type": "code",
   "execution_count": null,
   "id": "796e591d2eb76acf",
   "metadata": {},
   "outputs": [],
   "source": [
    "image_names = []\n",
    "image_bboxes = []\n",
    "image_labels = []\n",
    "for annot_file in tqdm(all_files):\n",
    "\tif '.xml' in annot_file:\n",
    "\t\t# Reading the data inside the xml\n",
    "\t\twith open(os.path.join(all_files_path, annot_file), 'r') as f:\n",
    "\t\t\tdata = f.read()\n",
    "\t\t\n",
    "\t\t# Passing the stored data \n",
    "\t\tBs_data = BeautifulSoup(data, \"xml\")\n",
    "\t\t\n",
    "\t\t# Finding image name \n",
    "\t\timage_names.append(Bs_data.find('filename').text)\n",
    "\t\t\n",
    "\t\t# Finding image annotations\n",
    "\t\tobjects = Bs_data.find_all('object')\n",
    "\t\tbboxes = []\n",
    "\t\tlabels = []\n",
    "\t\tfor obj in objects:\n",
    "\t\t\tobj_name = obj.find('name').text\n",
    "\t\t\tif obj_name in ['LICENSE-PLATE', 'CAR']:\n",
    "\t\t\t\tlabels.append(obj_name)\n",
    "\t\t\t\tbbox = [\n",
    "\t\t\t\t\tint(obj.find('bndbox').find('xmin').text),\n",
    "\t\t\t\t\tint(obj.find('bndbox').find('ymin').text),\n",
    "\t\t\t\t\tint(obj.find('bndbox').find('xmax').text),  # - int(obj.find('bndbox').find('xmin').text),\n",
    "\t\t\t\t\tint(obj.find('bndbox').find('ymax').text),  # - int(obj.find('bndbox').find('ymin').text)\n",
    "\t\t\t\t]\n",
    "\t\t\t\tbboxes.append(bbox)\n",
    "\t\timage_bboxes.append(bboxes)\n",
    "\t\timage_labels.append(labels)\t\n",
    "\t\t\n",
    "\t\t# Compile big dataset\n",
    "\t\timage_data_dict['full_paths'].append(\n",
    "\t\t\tos.path.join(all_files_path, Bs_data.find('filename').text)\n",
    "\t\t)\n",
    "\t\timage_data_dict['bboxes'].append(bboxes)\n",
    "\t\timage_data_dict['labels'].append(labels)"
   ]
  },
  {
   "cell_type": "code",
   "execution_count": null,
   "id": "45a82590cd75edd5",
   "metadata": {},
   "outputs": [],
   "source": [
    "print(image_data_dict['full_paths'][-1])\n",
    "print(image_data_dict['bboxes'][-1])\n",
    "print(image_data_dict['labels'][-1])"
   ]
  },
  {
   "cell_type": "code",
   "execution_count": null,
   "id": "b02c8e3da2d5c7fe",
   "metadata": {},
   "outputs": [],
   "source": [
    "# Plot and check data\n",
    "random_i = random.randint(0, len(image_names) - 1)\n",
    "\n",
    "test_image_path = os.path.join(all_files_path, image_names[random_i])\n",
    "test_image_bboxes = image_bboxes[random_i]\n",
    "test_image_labels = image_labels[random_i]\n",
    "\n",
    "test_image = cv2.imread(str(test_image_path))\n",
    "test_image = cv2.cvtColor(test_image, cv2.COLOR_BGR2RGB)\n",
    "test_image_bbox = test_image.copy()\n",
    "\n",
    "for bbox_i, bbox in enumerate(test_image_bboxes):\n",
    "\tcv2.rectangle(\n",
    "\t\ttest_image_bbox, \n",
    "\t\t(int(bbox[0]), int(bbox[1])),\n",
    "\t\t(int(bbox[2]), int(bbox[3])),\n",
    "\t\t(255,0,0),\n",
    "\t\t2\n",
    "\t)\n",
    "\tcv2.putText(\n",
    "\t\ttest_image_bbox, \n",
    "\t\ttest_image_labels[bbox_i],\n",
    "\t\t(int(bbox[0]), int(bbox[1])), \n",
    "\t\tcv2.FONT_HERSHEY_SIMPLEX, \n",
    "\t\tfontScale=1, \n",
    "\t\tcolor = (255, 0, 0),\n",
    "\t\tthickness=2\n",
    "\t)\n",
    "\n",
    "plt.figure(figsize = (20,20))\n",
    "plt.imshow(test_image_bbox);"
   ]
  },
  {
   "cell_type": "code",
   "execution_count": null,
   "id": "fd8a58d07d2a6b67",
   "metadata": {},
   "outputs": [],
   "source": []
  },
  {
   "cell_type": "markdown",
   "id": "c482c7aa3cccd83b",
   "metadata": {},
   "source": [
    "###  Car-License-Plate-Detection\n",
    "\n",
    "https://www.kaggle.com/datasets/amirhoseinahmadnejad/car-license-plate-detection-iran"
   ]
  },
  {
   "cell_type": "code",
   "execution_count": null,
   "id": "6e6c0baaa4cdac7b",
   "metadata": {},
   "outputs": [],
   "source": [
    "all_files_path = 'Car-License-Plate-Detection/train'\n",
    "all_files_train = list(os.walk('Car-License-Plate-Detection/train'))[0][-1]\n",
    "all_files_valid = list(os.walk('Car-License-Plate-Detection/valid'))[0][-1]\n",
    "all_files_test = list(os.walk('Car-License-Plate-Detection/test'))[0][-1]\n",
    "print(f\"train: {len(all_files_train)}, validate: {len(all_files_valid)}, test: {len(all_files_test)}\")"
   ]
  },
  {
   "cell_type": "code",
   "execution_count": null,
   "id": "8b3191d68b46e491",
   "metadata": {},
   "outputs": [],
   "source": [
    "image_names = []\n",
    "image_bboxes = []\n",
    "image_labels = []\n",
    "for annot_file in [\n",
    "\t'Car-License-Plate-Detection/train/',\n",
    "\t'Car-License-Plate-Detection/valid/',\n",
    "\t'Car-License-Plate-Detection/test/'\n",
    "]:\n",
    "\t# Reading the data inside the xml\n",
    "\twith open(os.path.join(annot_file, '_annotations.coco.json'), 'r') as json_file:\n",
    "\t\tjson_data_dir = json.load(json_file)\n",
    "\t\t# Process image data\n",
    "\t\tfor image_inf in tqdm(json_data_dir['images']):\n",
    "\t\t\timage_path = os.path.join(annot_file, image_inf['file_name'])\n",
    "\t\t\timage_names.append(image_path)\n",
    "\t\t\timage_id = image_inf['id']\n",
    "\t\t\tbboxes = []\n",
    "\t\t\tlabels = []\n",
    "\t\t\tfor annot in json_data_dir['annotations']:\n",
    "\t\t\t\tif annot['image_id'] == image_id:\n",
    "\t\t\t\t\tx_min, y_min, wight, height = annot['bbox']\n",
    "\t\t\t\t\tbboxes.append([int(x_min), int(y_min), int(x_min+wight), int(y_min+height)])\n",
    "\t\t\t\t\tlabels.append('plate')\n",
    "\t\t\timage_bboxes.append(bboxes)\n",
    "\t\t\timage_labels.append(labels)\n",
    "\t\t\t\n",
    "\t\t\t# Compile big dataset\n",
    "\t\t\timage_data_dict['full_paths'].append(\n",
    "\t\t\t\timage_path\n",
    "\t\t\t)\n",
    "\t\t\timage_data_dict['bboxes'].append(bboxes)\n",
    "\t\t\timage_data_dict['labels'].append(labels)\n",
    "\n",
    "print(image_names[-1])\n",
    "print(image_bboxes[-1])\n",
    "print(image_labels[-1])"
   ]
  },
  {
   "cell_type": "code",
   "execution_count": null,
   "id": "2169e707e98ecf83",
   "metadata": {},
   "outputs": [],
   "source": [
    "print(image_data_dict['full_paths'][-1])\n",
    "print(image_data_dict['bboxes'][-1])\n",
    "print(image_data_dict['labels'][-1])"
   ]
  },
  {
   "cell_type": "code",
   "execution_count": null,
   "id": "9704939ecf5ef35d",
   "metadata": {},
   "outputs": [],
   "source": [
    "# Plot and check data\n",
    "random_i = random.randint(0, len(image_names) - 1)\n",
    "\n",
    "test_image_path = image_names[random_i]\n",
    "test_image_bboxes = image_bboxes[random_i]\n",
    "test_image_labels = image_labels[random_i]\n",
    "\n",
    "test_image = cv2.imread(str(test_image_path))\n",
    "test_image = cv2.cvtColor(test_image, cv2.COLOR_BGR2RGB)\n",
    "test_image_bbox = test_image.copy()\n",
    "\n",
    "for bbox_i, bbox in enumerate(test_image_bboxes):\n",
    "\tcv2.rectangle(\n",
    "\t\ttest_image_bbox, \n",
    "\t\t(int(bbox[0]), int(bbox[1])),\n",
    "\t\t(int(bbox[2]), int(bbox[3])),\n",
    "\t\t(255,0,0),\n",
    "\t\t2\n",
    "\t)\n",
    "\tcv2.putText(\n",
    "\t\ttest_image_bbox, \n",
    "\t\ttest_image_labels[bbox_i],\n",
    "\t\t(int(bbox[0]), int(bbox[1])), \n",
    "\t\tcv2.FONT_HERSHEY_SIMPLEX, \n",
    "\t\tfontScale=1, \n",
    "\t\tcolor = (255, 0, 0),\n",
    "\t\tthickness=2\n",
    "\t)\n",
    "\n",
    "plt.figure(figsize = (20,20))\n",
    "plt.imshow(test_image_bbox);"
   ]
  },
  {
   "cell_type": "markdown",
   "id": "898dd138d82b527b",
   "metadata": {},
   "source": [
    "###  Car plate object detection\n",
    "\n",
    "https://www.kaggle.com/datasets/andrewteplov/car-plate-object-detetcion"
   ]
  },
  {
   "cell_type": "code",
   "execution_count": null,
   "id": "c84acca272c459dd",
   "metadata": {},
   "outputs": [],
   "source": [
    "all_files_path = 'Car-plate-object-detection/train'\n",
    "all_files_train = list(os.walk('Car-License-Plate-Detection/train'))[0][-1]\n",
    "all_files_valid = '0'  # list(os.walk('Car-License-Plate-Detection/valid'))[0][-1]\n",
    "all_files_test = '0'  # list(os.walk('Car-License-Plate-Detection/test'))[0][-1]\n",
    "print(f\"train: {len(all_files_train)}, validate: {len(all_files_valid)}, test: {len(all_files_test)}\")"
   ]
  },
  {
   "cell_type": "code",
   "execution_count": null,
   "id": "23d99c30f447e44d",
   "metadata": {},
   "outputs": [],
   "source": [
    "df = pd.read_csv('Car-plate-object-detection/annotation_car_plate_train.csv')\n",
    "print(df.shape)\n",
    "df.head()"
   ]
  },
  {
   "cell_type": "code",
   "execution_count": null,
   "id": "a54230d45a09a148",
   "metadata": {},
   "outputs": [],
   "source": [
    "all_data = {}\n",
    "\n",
    "image_names = df['file'].to_numpy()\n",
    "x_mins = df['xmin'].to_numpy()\n",
    "y_mins = df['ymin'].to_numpy()\n",
    "x_maxs = df['xmax'].to_numpy()\n",
    "y_maxs = df['ymax'].to_numpy()\n",
    "\n",
    "for image_i, image_name in enumerate(image_names):\n",
    "\tif image_name not in all_data:\n",
    "\t\tall_data[image_name] = {\n",
    "\t\t\t'bboxes': [[x_mins[image_i], y_mins[image_i], x_maxs[image_i], y_maxs[image_i]]],\n",
    "\t\t\t'labels': ['plate']\n",
    "\t\t}\n",
    "\telse:\n",
    "\t\tprint('double')\n",
    "\t\tall_data[image_name]['bboxes'].append(\n",
    "\t\t\t[x_mins[image_i], y_mins[image_i], x_maxs[image_i], y_maxs[image_i]]\n",
    "\t\t)\n",
    "\t\tall_data[image_name]['labels'].append('plate')\n",
    "\t\t\n",
    "# print(set([len(all_data[x]) for x in all_data]))\n",
    "\n",
    "for image_name in all_data:\n",
    "\t# Compile big dataset\n",
    "\timage_data_dict['full_paths'].append(\n",
    "\t\tos.path.join(all_files_path, f'{image_name}.jpg')\n",
    "\t)\n",
    "\timage_data_dict['bboxes'].append(all_data[image_name]['bboxes'])\n",
    "\timage_data_dict['labels'].append(all_data[image_name]['labels'])\n",
    "\t\n",
    "print(image_data_dict['full_paths'][-1])\n",
    "print(image_data_dict['bboxes'][-1])\n",
    "print(image_data_dict['labels'][-1])"
   ]
  },
  {
   "cell_type": "code",
   "execution_count": null,
   "id": "ce1f998d3e94c9de",
   "metadata": {},
   "outputs": [],
   "source": [
    "# Plot and check data\n",
    "random_i = random.randint(0, image_names.shape[0] - 1)\n",
    "\n",
    "test_image_path = os.path.join(all_files_path, f'{image_names[random_i]}.jpg')\n",
    "x_min = x_mins[random_i]\n",
    "y_min = y_mins[random_i]\n",
    "x_max = x_maxs[random_i]\n",
    "y_max = y_maxs[random_i]\n",
    "\n",
    "test_image = cv2.imread(str(test_image_path))\n",
    "test_image = cv2.cvtColor(test_image, cv2.COLOR_BGR2RGB)\n",
    "test_image_bbox = test_image.copy()\n",
    "\n",
    "cv2.rectangle(\n",
    "\ttest_image_bbox, \n",
    "\t(int(x_min), int(y_min)),\n",
    "\t(int(x_max), int(y_max)),\n",
    "\t(255,0,0),\n",
    "\t20\n",
    ")\n",
    "# cv2.putText(\n",
    "# \ttest_image_bbox, \n",
    "# \ttest_image_labels[bbox_i],\n",
    "# \t(int(bbox[0]), int(bbox[1])), \n",
    "# \tcv2.FONT_HERSHEY_SIMPLEX, \n",
    "# \tfontScale=1, \n",
    "# \tcolor = (255, 0, 0),\n",
    "# \tthickness=2\n",
    "# )\n",
    "\n",
    "plt.figure(figsize = (20,20))\n",
    "plt.imshow(test_image_bbox);"
   ]
  },
  {
   "cell_type": "code",
   "id": "9e889b04a106502c",
   "metadata": {},
   "outputs": [],
   "source": []
  },
  {
   "cell_type": "markdown",
   "id": "2c15cf5f6717bca3",
   "metadata": {},
   "source": [
    "# Сборка единого датасета в COCO формате"
   ]
  },
  {
   "cell_type": "code",
   "execution_count": null,
   "id": "c633a51faacb52ce",
   "metadata": {},
   "outputs": [],
   "source": [
    "print(image_data_dict['full_paths'][-1])\n",
    "print(image_data_dict['bboxes'][-1])\n",
    "print(image_data_dict['labels'][-1])\n",
    "\n",
    "print(len(image_data_dict['full_paths']))\n",
    "print(len(image_data_dict['bboxes']))\n",
    "print(len(image_data_dict['labels']))\n",
    "\n",
    "total_labels = []\n",
    "for labels in image_data_dict['labels']:\n",
    "\tfor l in labels:\n",
    "\t\tif l not in total_labels:\n",
    "\t\t\ttotal_labels.append(l)\n",
    "\t\t\t\n",
    "print(total_labels)"
   ]
  },
  {
   "cell_type": "code",
   "execution_count": null,
   "id": "389937e475285706",
   "metadata": {},
   "outputs": [],
   "source": [
    "COCO_plate_dataset = {\n",
    "    'licenses': [\n",
    "        {\n",
    "            'name': 'LogicYield MIT', 'id': 0, 'url': ''\n",
    "        }\n",
    "    ], \n",
    "    'info': {\n",
    "        'contributor': \"LLC LogicYield\", \n",
    "        'date_created': \"28-04-2024\", \n",
    "        'description': \"Dataset with selected plate numbers\", \n",
    "        'url': \"\", \n",
    "        'version': \"1.0\", \n",
    "        'year': \"2024\"\n",
    "    }, \n",
    "    'categories': [\n",
    "        {'id': 1, 'name': 'plate', 'supercategory': ''},\n",
    "\t\t{'id': 2, 'name': 'car', 'supercategory': ''},\n",
    "    ], \n",
    "    'images': [], \n",
    "    'annotations': []\n",
    "}"
   ]
  },
  {
   "cell_type": "code",
   "execution_count": null,
   "id": "fd83e2f2c9ee9d65",
   "metadata": {},
   "outputs": [],
   "source": [
    "for image_i, image_path in enumerate(tqdm(image_data_dict['full_paths'])):\n",
    "\timage = cv2.imread(str(image_path))\n",
    "\t# image = cv2.cvtColor(image, cv2.COLOR_BGR2RGB)\n",
    "\tcv2.imwrite(\n",
    "\t\tos.path.join(SAVE_PATH, f\"{image_i}.jpg\"), \n",
    "\t\timage\n",
    "\t)  # Save image\n",
    "\tsize = image.shape\n",
    "\timage_coco_data_i = {\n",
    "\t\t'id': image_i, \n",
    "\t\t'width': size[1], \n",
    "\t\t'height': size[0],\n",
    "\t\t'file_name': f\"{image_i}.jpg\",\n",
    "\t\t'license': 0, \n",
    "\t\t'flickr_url': '', \n",
    "\t\t'coco_url': '', \n",
    "\t\t'date_captured': '28-04-2024'\n",
    "\t}\n",
    "\tCOCO_plate_dataset['images'].append(image_coco_data_i)\n",
    "\tfor bbox_i, bbox in enumerate(image_data_dict['bboxes'][image_i]):\n",
    "\t\tlabel = image_data_dict['labels'][image_i][bbox_i]\n",
    "\t\tlabel_id = 1\n",
    "\t\tif label in ['CAR']:\n",
    "\t\t\tlabel_id = 2\n",
    "\t\tx_min, y_min, x_max, y_max = bbox\n",
    "\t\tannotation_coco_data_i = {\n",
    "\t\t\t'id': bbox_i,  # self id in image\n",
    "\t\t\t'image_id': image_i,  # according to images\n",
    "\t\t\t'category_id': label_id,  # according to categorise\n",
    "\t\t\t'segmentation': [], \n",
    "\t\t\t'area': round(int(x_max-x_min) * int(y_max-y_min)), \n",
    "\t\t\t'bbox': [int(x_min), int(y_min), int(x_max-x_min), int(y_max-y_min)], \n",
    "\t\t\t'iscrowd': 0\n",
    "\t\t}\n",
    "\t\tCOCO_plate_dataset['annotations'].append(annotation_coco_data_i)"
   ]
  },
  {
   "cell_type": "code",
   "execution_count": null,
   "id": "eaf79e833f9b23a2",
   "metadata": {},
   "outputs": [],
   "source": [
    "# Save COCO\n",
    "json_object = json.dumps(COCO_plate_dataset, indent=4)\n",
    "\n",
    "with open('COCO_plate_dataset.json', 'w') as fp:\n",
    "    fp.write(json_object)"
   ]
  },
  {
   "cell_type": "code",
   "id": "9afe8e05b6ad65a8",
   "metadata": {},
   "outputs": [],
   "source": []
  },
  {
   "cell_type": "markdown",
   "id": "996dd1e9ebbcba25",
   "metadata": {},
   "source": [
    "# Тестирование модулей для модели"
   ]
  },
  {
   "cell_type": "markdown",
   "id": "c58fa71c9004f39a",
   "metadata": {},
   "source": [
    "## Тестирование СОСО датасета"
   ]
  },
  {
   "cell_type": "code",
   "execution_count": null,
   "id": "ae12ebe380e4f10f",
   "metadata": {},
   "outputs": [],
   "source": [
    "with open(COCO_ANNOTATION_PATH, 'r') as json_data:\n",
    "    plate_COCO = json.load(json_data)\n",
    "\n",
    "print(plate_COCO.keys())"
   ]
  },
  {
   "cell_type": "code",
   "execution_count": null,
   "id": "605234569c74def",
   "metadata": {},
   "outputs": [],
   "source": [
    "# Test COCO data\n",
    "# Select random image in COCO\n",
    "all_imgs_data = len(plate_COCO['images'])\n",
    "test_i = random.randint(0, all_imgs_data-1)\n",
    "\n",
    "select_image_data = plate_COCO['images'][test_i]\n",
    "image_id = select_image_data['id']\n",
    "image_path = os.path.join(IMAGE_PATH, select_image_data['file_name'])\n",
    "\n",
    "# Load image\n",
    "test_image = cv2.imread(image_path)\n",
    "test_image = cv2.cvtColor(test_image, cv2.COLOR_BGR2RGB)\n",
    "\n",
    "valid_annot = []\n",
    "for i in plate_COCO['annotations']:\n",
    "    if i['image_id'] == image_id:\n",
    "        valid_annot.append(i)\n",
    "\n",
    "# print(\n",
    "#     (f\"len test segments: {len(valid_annot[0]['segmentation'])},\" \n",
    "#     f\"len points: {len(points_xy)}, len bboxes: {len(COCO_dataset_UCCV['annotations'][test_i]['bbox'])}\")\n",
    "# )\n",
    "\n",
    "# Plot COCO data on image\n",
    "for annotation in valid_annot:\n",
    "    bbox = annotation[\"bbox\"]\n",
    "    \n",
    "    cv2.rectangle(\n",
    "        test_image, \n",
    "        (int(bbox[0]), int(bbox[1])),\n",
    "        (int(bbox[0]+bbox[2]), int(bbox[1]+bbox[3])),\n",
    "        (255,0,0),\n",
    "        4\n",
    "    )\n",
    "\n",
    "fig, ax = plt.subplots(figsize=(10, 10))\n",
    "ax.imshow(test_image, cmap='gray', vmin=0, vmax=255, interpolation='nearest')"
   ]
  },
  {
   "cell_type": "markdown",
   "id": "23c7cc8d3b9514c2",
   "metadata": {},
   "source": [
    "## Тестирование разбиения данных"
   ]
  },
  {
   "cell_type": "code",
   "execution_count": null,
   "id": "879f626d69655c13",
   "metadata": {},
   "outputs": [],
   "source": [
    "(\n",
    "\ttrain_data_dict,\n",
    "\tvalidate_data_dict,\n",
    "\ttest_data_dict,\n",
    "\tclasses\n",
    ") = dspl.preprocess_and_split(\n",
    "\tdata_path=DATA_PATH,\n",
    "\tvalid_part = 0.2,\n",
    "\ttest_part = 0.1\n",
    ")"
   ]
  },
  {
   "cell_type": "code",
   "execution_count": null,
   "id": "eec2238380a01114",
   "metadata": {},
   "outputs": [],
   "source": [
    "train_data_dict['Labels'][186]"
   ]
  },
  {
   "cell_type": "markdown",
   "id": "b493a26add90ba77",
   "metadata": {},
   "source": [
    "## Тестирование датасета и аугментаций"
   ]
  },
  {
   "cell_type": "code",
   "execution_count": null,
   "id": "1e40a85d7ca6b2d7",
   "metadata": {},
   "outputs": [],
   "source": [
    "pure_dataset = PlateDataset(\n",
    "\timage_dir = IMAGE_PATH, \n",
    "\timage_paths = train_data_dict['Full_paths'],\n",
    "\timage_bboxes = train_data_dict['Bboxes'],\n",
    "\timage_labels = train_data_dict['Labels'],\n",
    "\tclasses=['plate'],\n",
    "\ttransforms = None,\n",
    "\tpreprocessing = None\n",
    ")"
   ]
  },
  {
   "cell_type": "code",
   "execution_count": null,
   "id": "f7a87146899ed23b",
   "metadata": {},
   "outputs": [],
   "source": [
    "random_i = random.randint(0, len(pure_dataset) - 1)\n",
    "print(\n",
    "\tf\"Selected index {random_i} from {len(pure_dataset)}\"\n",
    ")\n",
    "\n",
    "image, mask = pure_dataset[random_i]\n",
    "print(f\"Image shape: {image.shape}, mask shape: {mask.shape}\")\n",
    "\n",
    "\n",
    "plt.rcParams['figure.figsize'] = [20, 10]\n",
    "f, axarr = plt.subplots(1, 2) \n",
    "\n",
    "axarr[0].imshow(Image.fromarray(image), cmap='gray', vmin=0, vmax=255)\n",
    "axarr[1].imshow(mask[:, :, 0], cmap='gray', vmin=0, vmax=1)\n",
    "# \t\n",
    "# \t\n",
    "# Image.fromarray(image)\n",
    "# Image.fromarray(mask)\n",
    "# # plt.imshow()"
   ]
  },
  {
   "cell_type": "code",
   "execution_count": null,
   "id": "17d415aa3071cdd6",
   "metadata": {},
   "outputs": [],
   "source": [
    "transform_train = self_augs.get_transforms(\n",
    "\twidth=640,\n",
    "\theight=640,\n",
    "\tpreprocessing=True,\n",
    "\taugmentations=True,\n",
    "\tpostprocessing=True\n",
    ")\n",
    "\n",
    "transform_validate = self_augs.get_transforms(\n",
    "\twidth=640,\n",
    "\theight=640,\n",
    "\tpreprocessing=True,\n",
    "\taugmentations=False,\n",
    "\tpostprocessing=True\n",
    ")\n",
    "\n",
    "train_dataset = PlateDataset(\n",
    "        image_dir = IMAGE_PATH, \n",
    "\t\timage_paths = train_data_dict['Full_paths'],\n",
    "\t\timage_bboxes = train_data_dict['Bboxes'],\n",
    "\t\timage_labels = train_data_dict['Labels'],\n",
    "\t\tclasses=['plate'],\n",
    "        transforms = transform_train\n",
    "    )\n",
    "validate_dataset = PlateDataset(\n",
    "        image_dir = IMAGE_PATH, \n",
    "\t\timage_paths = validate_data_dict['Full_paths'],\n",
    "\t\timage_bboxes = validate_data_dict['Bboxes'],\n",
    "\t\timage_labels = validate_data_dict['Labels'],\n",
    "\t\tclasses=['plate'],\n",
    "        transforms = transform_validate\n",
    "    )"
   ]
  },
  {
   "cell_type": "code",
   "execution_count": null,
   "id": "94e784b9928be72c",
   "metadata": {},
   "outputs": [],
   "source": [
    "for _test_dataset in [train_dataset, validate_dataset]:\n",
    "\trandom_i = random.randint(0, len(_test_dataset) - 1)\n",
    "\tprint(\n",
    "\t\tf\"Selected index {random_i} from {len(_test_dataset)}\"\n",
    "\t)\n",
    "\t\n",
    "\ttest_image, test_mask = _test_dataset[random_i]\n",
    "\tprint(f\"Image shape: {test_image.shape}, mask shape: {test_mask.shape}\")\n",
    "\t\n",
    "\ttest_image = self_augs.denormalize(self_augs.tensor_to_cv_image(test_image))\n",
    "\t# test_mask = np.transpose(test_mask, (1,2,0))\n",
    "\t\n",
    "\tplt.rcParams['figure.figsize'] = [20, 10]\n",
    "\tf, axarr = plt.subplots(1, 2) \n",
    "\t\n",
    "\taxarr[0].imshow(test_image, cmap='gray', vmin=0, vmax=255)\n",
    "\taxarr[1].imshow(test_mask[:, :, 0], cmap='gray', vmin=0, vmax=1)\n",
    "\t# \t\n",
    "\t# \t\n",
    "\t# Image.fromarray(image)\n",
    "\t# Image.fromarray(mask)\n",
    "\t# # plt.imshow()"
   ]
  },
  {
   "cell_type": "code",
   "execution_count": null,
   "id": "e5c13d723d07bfcb",
   "metadata": {},
   "outputs": [],
   "source": [
    "train_loader = DataLoader(\n",
    "            dataset=train_dataset,\n",
    "            batch_size=32,\n",
    "            num_workers=10,\n",
    "            shuffle=True,\n",
    "            pin_memory=True,\n",
    "            drop_last=False,\n",
    "        )\n",
    "valid_loader = DataLoader(\n",
    "            dataset=validate_dataset,\n",
    "            batch_size=1,\n",
    "            num_workers=10,\n",
    "            shuffle=False,\n",
    "            pin_memory=True,\n",
    "            drop_last=False,\n",
    "        )"
   ]
  },
  {
   "cell_type": "code",
   "execution_count": null,
   "id": "1fbe837d04d5bfec",
   "metadata": {},
   "outputs": [],
   "source": [
    "# Test dataloader\n",
    "for _test_dataloader in [train_loader, valid_loader]:\n",
    "    print('process')\n",
    "    test_image, test_mask = next(iter(_test_dataloader))\n",
    "    test_image = self_augs.denormalize(self_augs.tensor_to_cv_image(test_image[0]))\n",
    "    \n",
    "    plt.rcParams['figure.figsize'] = [20, 10]\n",
    "    f, axarr = plt.subplots(1, 2) \n",
    "    \n",
    "    axarr[0].imshow(test_image, cmap='gray', vmin=0, vmax=255)\n",
    "    axarr[1].imshow(test_mask[0][:, :, 0], cmap='gray', vmin=0, vmax=1)\n",
    "    print()"
   ]
  },
  {
   "cell_type": "code",
   "id": "44223b7168821cf6",
   "metadata": {},
   "outputs": [],
   "source": []
  }
 ],
 "metadata": {
  "kernelspec": {
   "display_name": "Python 3",
   "language": "python",
   "name": "python3"
  },
  "language_info": {
   "codemirror_mode": {
    "name": "ipython",
    "version": 2
   },
   "file_extension": ".py",
   "mimetype": "text/x-python",
   "name": "python",
   "nbconvert_exporter": "python",
   "pygments_lexer": "ipython2",
   "version": "2.7.6"
  }
 },
 "nbformat": 4,
 "nbformat_minor": 5
}
